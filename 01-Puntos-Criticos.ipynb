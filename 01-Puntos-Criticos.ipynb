{
 "metadata": {
  "language_info": {
   "codemirror_mode": {
    "name": "ipython",
    "version": 3
   },
   "file_extension": ".py",
   "mimetype": "text/x-python",
   "name": "python",
   "nbconvert_exporter": "python",
   "pygments_lexer": "ipython3",
   "version": "3.8.3-final"
  },
  "orig_nbformat": 2,
  "kernelspec": {
   "name": "python_defaultSpec_1600737764153",
   "display_name": "Python 3.8.3 64-bit ('base': conda)"
  }
 },
 "nbformat": 4,
 "nbformat_minor": 2,
 "cells": [
  {
   "source": [
    "# Puntos criticos de funciones de 2 o mas variables"
   ],
   "cell_type": "markdown",
   "metadata": {}
  },
  {
   "cell_type": "code",
   "execution_count": 1,
   "metadata": {},
   "outputs": [],
   "source": [
    "from sympy import *"
   ]
  },
  {
   "cell_type": "code",
   "execution_count": 7,
   "metadata": {},
   "outputs": [
    {
     "output_type": "execute_result",
     "data": {
      "text/plain": "f(x, y)",
      "text/latex": "$\\displaystyle f{\\left(x,y \\right)}$"
     },
     "metadata": {},
     "execution_count": 7
    }
   ],
   "source": [
    "x, y = symbols('x y')\n",
    "f = Function('f')(x, y)\n",
    "f"
   ]
  },
  {
   "source": [
    "## Obtener los puntos criticos de la siguinete funcion"
   ],
   "cell_type": "markdown",
   "metadata": {}
  },
  {
   "cell_type": "code",
   "execution_count": 46,
   "metadata": {},
   "outputs": [
    {
     "output_type": "execute_result",
     "data": {
      "text/plain": "Eq(f(x, y), x**2 - 2*x + y**2/4)",
      "text/latex": "$\\displaystyle f{\\left(x,y \\right)} = x^{2} - 2 x + \\frac{y^{2}}{4}$"
     },
     "metadata": {},
     "execution_count": 46
    }
   ],
   "source": [
    "expresion = x**2 - 2*x + (y**2)/4\n",
    "Eq(f, expresion)"
   ]
  },
  {
   "source": [
    "### Se obtinen las derivadas parciales para encontrar los puntos criticos"
   ],
   "cell_type": "markdown",
   "metadata": {}
  },
  {
   "cell_type": "code",
   "execution_count": 47,
   "metadata": {},
   "outputs": [
    {
     "output_type": "execute_result",
     "data": {
      "text/plain": "Eq(Derivative(f(x, y), x), 2*x - 2)",
      "text/latex": "$\\displaystyle \\frac{\\partial}{\\partial x} f{\\left(x,y \\right)} = 2 x - 2$"
     },
     "metadata": {},
     "execution_count": 47
    }
   ],
   "source": [
    "# Derivada paricial con repecto de x\n",
    "u_x = f.diff(x)\n",
    "x_derivada = diff(expresion, x)\n",
    "\n",
    "Eq(u_x, x_derivada)"
   ]
  },
  {
   "cell_type": "code",
   "execution_count": 48,
   "metadata": {},
   "outputs": [
    {
     "output_type": "execute_result",
     "data": {
      "text/plain": "Eq(Derivative(f(x, y), y), y/2)",
      "text/latex": "$\\displaystyle \\frac{\\partial}{\\partial y} f{\\left(x,y \\right)} = \\frac{y}{2}$"
     },
     "metadata": {},
     "execution_count": 48
    }
   ],
   "source": [
    "# Derivada paricial con repecto de y\n",
    "u_y = f.diff(y)\n",
    "y_derivada = diff(expresion, y)\n",
    "\n",
    "Eq(u_y, y_derivada)"
   ]
  },
  {
   "source": [
    "### Se obtienen los puntos criticos igualando la derivada a 0"
   ],
   "cell_type": "markdown",
   "metadata": {}
  },
  {
   "cell_type": "code",
   "execution_count": 49,
   "metadata": {
    "tags": []
   },
   "outputs": [
    {
     "output_type": "display_data",
     "data": {
      "text/plain": "Eq(2*x - 2, 0)",
      "text/latex": "$\\displaystyle 2 x - 2 = 0$"
     },
     "metadata": {}
    },
    {
     "output_type": "display_data",
     "data": {
      "text/plain": "Eq(x, 1)",
      "text/latex": "$\\displaystyle x = 1$"
     },
     "metadata": {}
    }
   ],
   "source": [
    "x_p_Eq = Eq(x_derivada, 0)\n",
    "display(x_p_Eq)\n",
    "x_punto_critico = solve(x_p_Eq)[0]\n",
    "display(Eq(x ,x_punto_critico))"
   ]
  },
  {
   "cell_type": "code",
   "execution_count": 50,
   "metadata": {},
   "outputs": [
    {
     "output_type": "display_data",
     "data": {
      "text/plain": "Eq(y/2, 0)",
      "text/latex": "$\\displaystyle \\frac{y}{2} = 0$"
     },
     "metadata": {}
    },
    {
     "output_type": "display_data",
     "data": {
      "text/plain": "Eq(y, 0)",
      "text/latex": "$\\displaystyle y = 0$"
     },
     "metadata": {}
    }
   ],
   "source": [
    "y_p_Eq = Eq(y_derivada, 0)\n",
    "display(y_p_Eq)\n",
    "y_punto_critico = solve(y_p_Eq)[0]\n",
    "display(Eq(y, y_punto_critico))"
   ]
  },
  {
   "source": [
    "punto_critico = (x_punto_critico, y_punto_critico)\n",
    "display(punto_critico)"
   ],
   "cell_type": "code",
   "metadata": {},
   "execution_count": 51,
   "outputs": [
    {
     "output_type": "display_data",
     "data": {
      "text/plain": "(1, 0)"
     },
     "metadata": {}
    }
   ]
  },
  {
   "source": [
    "## Para clasificar el punto critico se hace uso del determinante de la  Matriz Hessiana"
   ],
   "cell_type": "markdown",
   "metadata": {}
  },
  {
   "cell_type": "code",
   "execution_count": 53,
   "metadata": {},
   "outputs": [
    {
     "output_type": "display_data",
     "data": {
      "image/png": "[encoded data removed]",
      "text/plain": "<IPython.core.display.Image object>"
     },
     "metadata": {}
    }
   ],
   "source": [
    "from IPython.display import Image\n",
    "display(Image(\"img/matriz_hessiana.png\"))"
   ]
  },
  {
   "source": [
    "D es el determinante de la matriz hessiana\n",
    "\n",
    "## Criterios de clasificacion\n",
    "- Si D > 0 y fxx(a, b) < 0, entonces f(a, b) es un valor maximo local\n",
    "- Si D > 0 y fxx(a, b) > 0, entonces f(a, b) es un valor minimo local\n",
    "- Si D < 0, entonces f(a, b) es un punto de silla\n",
    "- Si D = 0 el criterio no es concluyente"
   ],
   "cell_type": "markdown",
   "metadata": {}
  },
  {
   "cell_type": "code",
   "execution_count": 57,
   "metadata": {},
   "outputs": [],
   "source": [
    "def matriz_hessiana(expresion, simbolos):\n",
    "    \"\"\"\n",
    "        Recibe la expresion y los simbolos de sympy con los que va a construir la matriz\n",
    "\n",
    "        Devuleve una Matriz hessiana\n",
    "    \"\"\"\n",
    "\n",
    "    X = Matrix([s for s in simbolos])\n",
    "    f = Matrix([expresion])\n",
    "\n",
    "    return sympify(hessian(f, X))"
   ]
  },
  {
   "cell_type": "code",
   "execution_count": 62,
   "metadata": {},
   "outputs": [
    {
     "output_type": "execute_result",
     "data": {
      "text/plain": "Matrix([\n[2,   0],\n[0, 1/2]])",
      "text/latex": "$\\displaystyle \\left[\\begin{matrix}2 & 0\\\\0 & \\frac{1}{2}\\end{matrix}\\right]$"
     },
     "metadata": {},
     "execution_count": 62
    }
   ],
   "source": [
    "m_hessiana = matriz_hessiana(expresion, (x, y))\n",
    "m_hessiana"
   ]
  },
  {
   "cell_type": "code",
   "execution_count": 63,
   "metadata": {},
   "outputs": [
    {
     "output_type": "execute_result",
     "data": {
      "text/plain": "1",
      "text/latex": "$\\displaystyle 1$"
     },
     "metadata": {},
     "execution_count": 63
    }
   ],
   "source": [
    "D = m_hessiana.det()\n",
    "D"
   ]
  },
  {
   "cell_type": "code",
   "execution_count": 69,
   "metadata": {},
   "outputs": [
    {
     "output_type": "execute_result",
     "data": {
      "text/plain": "2",
      "text/latex": "$\\displaystyle 2$"
     },
     "metadata": {},
     "execution_count": 69
    }
   ],
   "source": [
    "fxx = diff(x_derivada)\n",
    "fxx"
   ]
  },
  {
   "cell_type": "code",
   "execution_count": 70,
   "metadata": {},
   "outputs": [],
   "source": [
    "def clasificar_puntos(puntos: list, D: numer, fxx):\n",
    "    for punto in puntos:\n",
    "        if D == 0:\n",
    "            print(punto, 'no es concluyente.')\n",
    "        elif D < 0:\n",
    "            print(punto, 'es un punto de silla')\n",
    "        elif D > 0:\n",
    "            if fxx.evalf(subs=punto) < 0:\n",
    "                print(punto, 'es un punto maximo local')\n",
    "            else:\n",
    "                print(punto, 'es un punto minimo local')\n",
    "            "
   ]
  },
  {
   "cell_type": "code",
   "execution_count": 72,
   "metadata": {
    "tags": []
   },
   "outputs": [
    {
     "output_type": "stream",
     "name": "stdout",
     "text": "{x: 1, y: 0} es un punto minimo local\n"
    }
   ],
   "source": [
    "clasificar_puntos([{x: punto_critico[0], y: punto_critico[1]}], D, fxx)"
   ]
  },
  {
   "cell_type": "code",
   "execution_count": null,
   "metadata": {},
   "outputs": [],
   "source": []
  }
 ]
}