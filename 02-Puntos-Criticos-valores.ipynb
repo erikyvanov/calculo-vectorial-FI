{
 "metadata": {
  "language_info": {
   "codemirror_mode": {
    "name": "ipython",
    "version": 3
   },
   "file_extension": ".py",
   "mimetype": "text/x-python",
   "name": "python",
   "nbconvert_exporter": "python",
   "pygments_lexer": "ipython3",
   "version": "3.8.3-final"
  },
  "orig_nbformat": 2,
  "kernelspec": {
   "name": "Python 3.8.3 64-bit ('base': conda)",
   "display_name": "Python 3.8.3 64-bit ('base': conda)",
   "metadata": {
    "interpreter": {
     "hash": "b3ba2566441a7c06988d0923437866b63cedc61552a5af99d1f4fb67d367b25f"
    }
   }
  }
 },
 "nbformat": 4,
 "nbformat_minor": 2,
 "cells": [
  {
   "cell_type": "code",
   "execution_count": 90,
   "metadata": {},
   "outputs": [],
   "source": [
    "from sympy import *"
   ]
  },
  {
   "source": [
    "# Puntos criticos con valores caracteristicos"
   ],
   "cell_type": "markdown",
   "metadata": {}
  },
  {
   "cell_type": "code",
   "execution_count": 91,
   "metadata": {},
   "outputs": [
    {
     "output_type": "execute_result",
     "data": {
      "text/plain": "f(x, y, z)",
      "text/latex": "$\\displaystyle f{\\left(x,y,z \\right)}$"
     },
     "metadata": {},
     "execution_count": 91
    }
   ],
   "source": [
    "x, y, z = symbols('x y z')\n",
    "f = Function('f')(x, y, z)\n",
    "f"
   ]
  },
  {
   "cell_type": "code",
   "execution_count": 92,
   "metadata": {},
   "outputs": [
    {
     "output_type": "execute_result",
     "data": {
      "text/plain": "Eq(f(x, y, z), 3*x*z**2 - 3*x + y**3*z + 12*y - 2*z + 2)",
      "text/latex": "$\\displaystyle f{\\left(x,y,z \\right)} = 3 x z^{2} - 3 x + y^{3} z + 12 y - 2 z + 2$"
     },
     "metadata": {},
     "execution_count": 92
    }
   ],
   "source": [
    "expresion = 3*x*z**2 + z*y**3 - 3*x + 12*y - 2*z + 2\n",
    "# expresion = 4*x**3 + 2*x**2*y + 6*x*z + 3*z**2 - 2*y + x**2\n",
    "\n",
    "Eq(f, expresion)"
   ]
  },
  {
   "source": [
    "## Hacer las derivadas parciales"
   ],
   "cell_type": "markdown",
   "metadata": {}
  },
  {
   "cell_type": "code",
   "execution_count": 93,
   "metadata": {},
   "outputs": [
    {
     "output_type": "execute_result",
     "data": {
      "text/plain": "Eq(Derivative(f(x, y, z), x), 3*z**2 - 3)",
      "text/latex": "$\\displaystyle \\frac{\\partial}{\\partial x} f{\\left(x,y,z \\right)} = 3 z^{2} - 3$"
     },
     "metadata": {},
     "execution_count": 93
    }
   ],
   "source": [
    "d_p_x = diff(expresion, x)\n",
    "Eq(diff(f, x), d_p_x)"
   ]
  },
  {
   "cell_type": "code",
   "execution_count": 94,
   "metadata": {},
   "outputs": [
    {
     "output_type": "execute_result",
     "data": {
      "text/plain": "Eq(Derivative(f(x, y, z), y), 3*y**2*z + 12)",
      "text/latex": "$\\displaystyle \\frac{\\partial}{\\partial y} f{\\left(x,y,z \\right)} = 3 y^{2} z + 12$"
     },
     "metadata": {},
     "execution_count": 94
    }
   ],
   "source": [
    "d_p_y = diff(expresion, y)\n",
    "Eq(diff(f, y), d_p_y)"
   ]
  },
  {
   "cell_type": "code",
   "execution_count": 95,
   "metadata": {},
   "outputs": [
    {
     "output_type": "execute_result",
     "data": {
      "text/plain": "Eq(Derivative(f(x, y, z), z), 6*x*z + y**3 - 2)",
      "text/latex": "$\\displaystyle \\frac{\\partial}{\\partial z} f{\\left(x,y,z \\right)} = 6 x z + y^{3} - 2$"
     },
     "metadata": {},
     "execution_count": 95
    }
   ],
   "source": [
    "d_p_z = diff(expresion, z)\n",
    "Eq(diff(f, z), d_p_z)"
   ]
  },
  {
   "source": [
    "## Resolver el sistema de ecuaciones "
   ],
   "cell_type": "markdown",
   "metadata": {}
  },
  {
   "cell_type": "code",
   "execution_count": 96,
   "metadata": {},
   "outputs": [
    {
     "output_type": "execute_result",
     "data": {
      "text/plain": "[{x: -5/3, y: -2, z: -1},\n {x: 1, y: 2, z: -1},\n {x: 1/3 - 4*I/3, y: -2*I, z: 1},\n {x: 1/3 + 4*I/3, y: 2*I, z: 1}]"
     },
     "metadata": {},
     "execution_count": 96
    }
   ],
   "source": [
    "puntos_criticos = solve([d_p_x, d_p_y, d_p_z], dict=True)\n",
    "puntos_criticos"
   ]
  },
  {
   "cell_type": "code",
   "execution_count": 97,
   "metadata": {},
   "outputs": [
    {
     "output_type": "execute_result",
     "data": {
      "text/plain": "[{x: -5/3, y: -2, z: -1}, {x: 1, y: 2, z: -1}]"
     },
     "metadata": {},
     "execution_count": 97
    }
   ],
   "source": [
    "# Como estamos trabajando con calculo de variable REAL descartamos los ultimos 2 puntos criticos\n",
    "puntos_criticos = puntos_criticos[:2]\n",
    "puntos_criticos"
   ]
  },
  {
   "cell_type": "code",
   "execution_count": 98,
   "metadata": {},
   "outputs": [],
   "source": [
    "# Hacer matriz hessiana\n",
    "def matriz_hessiana(expresion, simbolos):\n",
    "    \"\"\"\n",
    "        Recibe la expresion y los simbolos de sympy con los que va a construir la matriz\n",
    "\n",
    "        Devuleve una Matriz hessiana\n",
    "    \"\"\"\n",
    "\n",
    "    X = Matrix([s for s in simbolos])\n",
    "    f = Matrix([expresion])\n",
    "\n",
    "    return sympify(hessian(f, X))"
   ]
  },
  {
   "cell_type": "code",
   "execution_count": 99,
   "metadata": {},
   "outputs": [
    {
     "output_type": "execute_result",
     "data": {
      "text/plain": "Matrix([\n[  0,      0,    6*z],\n[  0,  6*y*z, 3*y**2],\n[6*z, 3*y**2,    6*x]])",
      "text/latex": "$\\displaystyle \\left[\\begin{matrix}0 & 0 & 6 z\\\\0 & 6 y z & 3 y^{2}\\\\6 z & 3 y^{2} & 6 x\\end{matrix}\\right]$"
     },
     "metadata": {},
     "execution_count": 99
    }
   ],
   "source": [
    "hessiana = matriz_hessiana(expresion, [x, y, z])\n",
    "hessiana"
   ]
  },
  {
   "cell_type": "code",
   "execution_count": 100,
   "metadata": {},
   "outputs": [
    {
     "output_type": "execute_result",
     "data": {
      "text/plain": "-216*y*z**3",
      "text/latex": "$\\displaystyle - 216 y z^{3}$"
     },
     "metadata": {},
     "execution_count": 100
    }
   ],
   "source": [
    "# Determinate de la matriz hessiana\n",
    "hessiana.det()"
   ]
  },
  {
   "cell_type": "code",
   "execution_count": 103,
   "metadata": {},
   "outputs": [],
   "source": [
    "# Clasificar punto\n",
    "def clasificar_puntos_valores_caracteristicos(puntos, matriz_hessiana):\n",
    "    for punto in puntos:\n",
    "        matriz_evaluada = matriz_hessiana.evalf(subs=punto)\n",
    "\n",
    "        # Determinate de la matriz\n",
    "        D = matriz_evaluada.det()\n",
    "\n",
    "        # Obtener valores propios\n",
    "        # Tambien se pueden obetner resolviendo la ecuacion det(M - lI) = 0\n",
    "        valores_propios = matriz_evaluada.eigenvals()\n",
    "\n",
    "        no_valores_positivos = 0\n",
    "        for valor_propio in valores_propios:\n",
    "            if valor_propio > 0:\n",
    "                no_valores_positivos += 1\n",
    "\n",
    "        # Condiciones para saber la clasificacion\n",
    "        # D < 0 y l's < 0 es un punto maximo local\n",
    "        if D < 0 and no_valores_positivos == len(valores_propios):\n",
    "            print('{} es un punto maximo local'.format(punto))\n",
    "        elif D > 0 and no_valores_positivos == 0:\n",
    "            print('{} es un punto minimo local'.format(punto))\n",
    "        else:\n",
    "            print('{} es un punto de silla'.format(punto))"
   ]
  },
  {
   "cell_type": "code",
   "execution_count": 104,
   "metadata": {
    "tags": []
   },
   "outputs": [
    {
     "output_type": "stream",
     "name": "stdout",
     "text": "{x: -5/3, y: -2, z: -1} es un punto de silla\n{x: 1, y: 2, z: -1} es un punto de silla\n"
    }
   ],
   "source": [
    "clasificar_puntos_valores_caracteristicos(puntos_criticos, hessiana)"
   ]
  },
  {
   "cell_type": "code",
   "execution_count": null,
   "metadata": {},
   "outputs": [],
   "source": []
  }
 ]
}